{
 "cells": [
  {
   "cell_type": "markdown",
   "metadata": {},
   "source": [
    "# Microsoft GeoLife File System Rearrangement ( #0 -> #1 )"
   ]
  },
  {
   "cell_type": "markdown",
   "metadata": {},
   "source": [
    "This notebook takes the \"Data\" directory path of the Microsoft GeoLife Asia dataset, and produce CSV files "
   ]
  },
  {
   "cell_type": "markdown",
   "metadata": {},
   "source": [
    "## Defs & Preps\n",
    "#### Imports, Globals & CONSTS"
   ]
  },
  {
   "cell_type": "code",
   "execution_count": 64,
   "metadata": {},
   "outputs": [],
   "source": [
    "import os\n",
    "import pandas as pd\n",
    "\n",
    "LAT  = 'Lat'\n",
    "LON  = 'Lon'\n",
    "ALT  = 'Alt'\n",
    "DATE = 'Date'\n",
    "TIME = 'Time'\n",
    "NULL = 'Null'\n",
    "ZERO = '0'\n",
    "SPEED = 'Speed'\n",
    "AVG = 'Average'\n",
    "TRJ = '\\\\Trajectory\\\\'\n",
    "US = '_'\n",
    "\n",
    "colnames=[LAT,LON,ZERO,ALT,NULL,DATE,TIME]\n",
    "fixed_colnames = [LON,LAT,ALT,DATE,TIME]"
   ]
  },
  {
   "cell_type": "markdown",
   "metadata": {},
   "source": [
    "#### Functions\n",
    "plt2csv"
   ]
  },
  {
   "cell_type": "code",
   "execution_count": 65,
   "metadata": {},
   "outputs": [],
   "source": [
    "def plt2csv(src_plt, dst_dir):\n",
    "    '''This function takes source plt path of Microsoft GeoLife dataset trajectory: <src_plt>, \n",
    "    and directory path <dst_dir> and produce a CSV file to be located at the desttination directory'''\n",
    "    csv_ext = '.csv'\n",
    "    user_name = src_plt[-33:-30]\n",
    "    file_name =src_plt[-18:-4]\n",
    "    csv_path = dst_dir + user_name + US + file_name + csv_ext\n",
    "    df = pd.read_csv(src_plt, skiprows=6, names=colnames)[fixed_colnames]\n",
    "    df.to_csv(csv_path)"
   ]
  },
  {
   "cell_type": "markdown",
   "metadata": {},
   "source": [
    "Run Stage Transform"
   ]
  },
  {
   "cell_type": "code",
   "execution_count": 72,
   "metadata": {},
   "outputs": [],
   "source": [
    "def runStageTransform(root_dir,dst_dir):\n",
    "    '''This fn drills down to all plt files and produce csv for each plt file at the destination directory \n",
    "        the csv file name includes the user serial number and the plt file name '''\n",
    "    dirs = os.listdir(root_dir)\n",
    "    for directory in dirs:\n",
    "        trj_path = root_dir+directory+TRJ\n",
    "        plts = os.listdir(trj_path)\n",
    "        for plt in plts:\n",
    "            plt2csv(trj_path+plt, dst_dir)"
   ]
  },
  {
   "cell_type": "markdown",
   "metadata": {},
   "source": [
    "#### Main\n",
    "#2DO: change paths"
   ]
  },
  {
   "cell_type": "code",
   "execution_count": 73,
   "metadata": {},
   "outputs": [],
   "source": [
    "# Define the path to the 'Data' root-directory, located at the GeoLife Trajectories 1.3 dir\n",
    "#          which is in the project's GoogleDrive as stage #0 (raw) data. \n",
    "root = 'D:\\\\Mikes\\\\Studies\\\\Colman\\\\Final Project\\\\Raw Data Sets\\\\Geolife Trajectories 1.3\\\\Data\\\\'\n",
    "# Define the path to the CSV files to-be-created directory \n",
    "csvs_dir = 'D:\\\\Mikes\\\\Studies\\\\Colman\\\\Final Project\\\\MGGBT\\\\Stage #1\\\\'"
   ]
  },
  {
   "cell_type": "code",
   "execution_count": null,
   "metadata": {},
   "outputs": [],
   "source": [
    "runStageTransform(root,csvs_dir)"
   ]
  },
  {
   "cell_type": "code",
   "execution_count": null,
   "metadata": {},
   "outputs": [],
   "source": []
  }
 ],
 "metadata": {
  "kernelspec": {
   "display_name": "Python 3",
   "language": "python",
   "name": "python3"
  },
  "language_info": {
   "codemirror_mode": {
    "name": "ipython",
    "version": 3
   },
   "file_extension": ".py",
   "mimetype": "text/x-python",
   "name": "python",
   "nbconvert_exporter": "python",
   "pygments_lexer": "ipython3",
   "version": "3.8.3"
  }
 },
 "nbformat": 4,
 "nbformat_minor": 4
}
