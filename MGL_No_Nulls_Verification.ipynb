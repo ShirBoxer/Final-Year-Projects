{
 "cells": [
  {
   "cell_type": "markdown",
   "metadata": {},
   "source": [
    "# Micrsoft GeoLife\n",
    "## Has-No-Nulls verification\n",
    "### Defs & Preps"
   ]
  },
  {
   "cell_type": "code",
   "execution_count": 3,
   "metadata": {},
   "outputs": [],
   "source": [
    "import os\n",
    "import pandas as pd\n",
    "from IPython.display import clear_output  \n",
    "\n",
    "colnames = ['Lon','Lat','Alt','Date','Time']\n",
    "#2DO: change path to your Stage #1 data directory (All plt files in a single dir as csvs)\n",
    "src_pth = 'D:\\\\Mikes\\\\Studies\\\\Colman\\\\Final Project\\\\MGGBT\\\\#1__All plt files as CSVS\\\\'\n",
    "\n",
    "def showProgress(p):\n",
    "    clear_output(wait=True)\n",
    "    print(str(p)+'% completed.')"
   ]
  },
  {
   "cell_type": "code",
   "execution_count": 8,
   "metadata": {},
   "outputs": [
    {
     "data": {
      "text/html": [
       "<div>\n",
       "<style scoped>\n",
       "    .dataframe tbody tr th:only-of-type {\n",
       "        vertical-align: middle;\n",
       "    }\n",
       "\n",
       "    .dataframe tbody tr th {\n",
       "        vertical-align: top;\n",
       "    }\n",
       "\n",
       "    .dataframe thead th {\n",
       "        text-align: right;\n",
       "    }\n",
       "</style>\n",
       "<table border=\"1\" class=\"dataframe\">\n",
       "  <thead>\n",
       "    <tr style=\"text-align: right;\">\n",
       "      <th></th>\n",
       "      <th>Name</th>\n",
       "      <th>Age</th>\n",
       "    </tr>\n",
       "  </thead>\n",
       "  <tbody>\n",
       "    <tr>\n",
       "      <th>0</th>\n",
       "      <td>Dave</td>\n",
       "      <td>30.0</td>\n",
       "    </tr>\n",
       "    <tr>\n",
       "      <th>1</th>\n",
       "      <td>Mike</td>\n",
       "      <td>NaN</td>\n",
       "    </tr>\n",
       "  </tbody>\n",
       "</table>\n",
       "</div>"
      ],
      "text/plain": [
       "   Name   Age\n",
       "0  Dave  30.0\n",
       "1  Mike   NaN"
      ]
     },
     "execution_count": 8,
     "metadata": {},
     "output_type": "execute_result"
    }
   ],
   "source": [
    "d = {'Name':['Dave','Mike'],'Age':[30,None]}\n",
    "dafr = pd.DataFrame(d)\n",
    "dafr"
   ]
  },
  {
   "cell_type": "code",
   "execution_count": 26,
   "metadata": {},
   "outputs": [
    {
     "name": "stdout",
     "output_type": "stream",
     "text": [
      "100% completed.\n",
      "No NaN/NaT on this dataset\n"
     ]
    }
   ],
   "source": [
    "hasNulls_paths = []\n",
    "files = os.listdir(src_pth)\n",
    "total_len = len(files)\n",
    "file_number = 0\n",
    "\n",
    "for file in files:\n",
    "    \n",
    "    file_number+=1\n",
    "    prcnt = int(100*file_number/total_len)\n",
    "    showProgress(prcnt)\n",
    "    \n",
    "    path = src_pth+file    \n",
    "    df = pd.read_csv(path,skiprows=1,names=colnames)\n",
    "    original_len = len(df)\n",
    "    fixed_len = len(df.dropna())\n",
    "    if original_len != fixed_len:\n",
    "        hasNulls_paths.append(path)\n",
    "        \n",
    "mal_count = len(hasNulls_paths)\n",
    "if mal_count==0: \n",
    "    print(\"No NaN/NaT on this dataset\")\n",
    "else: \n",
    "    for path in hasNulls_paths:\n",
    "        print(path)"
   ]
  }
 ],
 "metadata": {
  "kernelspec": {
   "display_name": "Python 3",
   "language": "python",
   "name": "python3"
  },
  "language_info": {
   "codemirror_mode": {
    "name": "ipython",
    "version": 3
   },
   "file_extension": ".py",
   "mimetype": "text/x-python",
   "name": "python",
   "nbconvert_exporter": "python",
   "pygments_lexer": "ipython3",
   "version": "3.8.3"
  }
 },
 "nbformat": 4,
 "nbformat_minor": 4
}
